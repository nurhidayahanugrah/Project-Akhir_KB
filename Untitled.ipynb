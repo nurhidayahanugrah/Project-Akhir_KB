{
 "cells": [
  {
   "cell_type": "code",
   "execution_count": 1,
   "id": "2121b2cb-4c51-44d1-88f9-385ca3f4a8f5",
   "metadata": {},
   "outputs": [],
   "source": [
    "import tensorflow as tf\n",
    "from keras_preprocessing.image import ImageDataGenerator\n",
    "import matplotlib.pyplot as plt"
   ]
  },
  {
   "cell_type": "code",
   "execution_count": 2,
   "id": "4632b2e3-9856-4290-a90c-f7a540752143",
   "metadata": {},
   "outputs": [],
   "source": [
    "def make_dataframes(train_dir, val_dir):\n",
    "    bad_images=[]\n",
    "    dirlist=[train_dir, val_dir]\n",
    "    names=['train', 'valid']\n",
    "    zipdir=zip(names, dirlist)\n",
    "    for name,d in zipdir:\n",
    "        filepaths=[]\n",
    "        labels=[]\n",
    "        classlist=sorted(os.listdir(d) )       \n",
    "        for klass in classlist:\n",
    "            classpath=os.path.join(d, klass)           \n",
    "            flist=sorted(os.listdir(classpath)) \n",
    "            desc=f'{name:6s}-{klass:25s}'\n",
    "            for f in tqdm(flist, ncols=130,desc=desc, unit='files', colour='blue'):\n",
    "                fpath=os.path.join(classpath,f)\n",
    "                try:\n",
    "                    img=cv2.imread(fpath)\n",
    "                    shape=img.shape\n",
    "                    filepaths.append(fpath)\n",
    "                    labels.append(klass)\n",
    "                except:\n",
    "                    print (fpath, ' is an invalid image file')\n",
    "                    bad_images.append(fpath)\n",
    "        Fseries=pd.Series(filepaths, name='filepaths')\n",
    "        Lseries=pd.Series(labels, name='labels')\n",
    "        df=pd.concat([Fseries, Lseries], axis=1) \n",
    "        if name =='valid':\n",
    "            valid_df=df       \n",
    "        else:\n",
    "            pdf=df \n",
    "    train_df, test_df=train_test_split(pdf, train_size=.8, shuffle=True, random_state=123, stratify=pdf['labels'])\n",
    "    classes=sorted(train_df['labels'].unique())\n",
    "    class_count=len(classes)\n",
    "    sample_df=train_df.sample(n=50, replace=False)\n",
    "    # calculate the average image height and with\n",
    "    # ht=0\n",
    "    # wt=0\n",
    "    # count=0\n",
    "    # for i in range(len(sample_df)):\n",
    "    #     fpath=sample_df['filepaths'].iloc[i]\n",
    "    #     try:\n",
    "    #         img=cv2.imread(fpath)\n",
    "    #         h=img.shape[0]\n",
    "    #         w=img.shape[1]\n",
    "    #         wt +=w\n",
    "    #         ht +=h\n",
    "    #         count +=1\n",
    "    #     except:\n",
    "    #         pass\n",
    "    # have=int(ht/count)\n",
    "    # wave=int(wt/count)\n",
    "    # aspect_ratio=have/wave\n",
    "    # print('Jumlah kelas dataset: ', class_count)    \n",
    "    counts=list(train_df['labels'].value_counts())    \n",
    "    # print('the maximum files in any class in train_df is ', max(counts), '  the minimum files in any class in train_df is ', min(counts))\n",
    "    # print('train_df length: ', len(train_df), '  test_df length: ', len(test_df), '  valid_df length: ', len(valid_df))  \n",
    "    # print('average image height= ', have, '  average image width= ', wave, ' aspect ratio h/w= ', aspect_ratio) \n",
    "    if len(bad_images)>0:\n",
    "        msg='Below is a list of invalid image files'\n",
    "        print_in_color(msg)\n",
    "        for f in bad_images:\n",
    "            print (f)\n",
    "    return train_df, test_df, valid_df, classes, class_count\n",
    "\n",
    "train_dir = r'Handbags Classification/Train Dataset'\n",
    "val_dir=r'Handbags Classification/Valid Dataset'\n",
    "train_df, test_df, valid_df, classes, class_count=make_dataframes(train_dir, val_dir)\n",
    "    "
   ]
  },
  {
   "cell_type": "markdown",
   "id": "c6a81e62-bf33-4135-a3ed-d38ef8fd957a",
   "metadata": {},
   "source": [
    "### Informasi dataset"
   ]
  },
  {
   "cell_type": "code",
   "execution_count": 3,
   "id": "7a79fb5e-1791-46de-8a19-fe0fcf503d38",
   "metadata": {},
   "outputs": [
    {
     "ename": "NameError",
     "evalue": "name 'test_df' is not defined",
     "output_type": "error",
     "traceback": [
      "\u001b[1;31m---------------------------------------------------------------------------\u001b[0m",
      "\u001b[1;31mNameError\u001b[0m                                 Traceback (most recent call last)",
      "Cell \u001b[1;32mIn [3], line 2\u001b[0m\n\u001b[0;32m      1\u001b[0m \u001b[39mprint\u001b[39m(\n\u001b[1;32m----> 2\u001b[0m     \u001b[39mf\u001b[39m\u001b[39m'\u001b[39m\u001b[39mJumlah data test\u001b[39m\u001b[39m\\t\u001b[39;00m\u001b[39m\\t\u001b[39;00m\u001b[39m: \u001b[39m\u001b[39m{\u001b[39;00m\u001b[39msum\u001b[39m([\u001b[39mlen\u001b[39m(test_df)])\u001b[39m}\u001b[39;00m\u001b[39m'\u001b[39m,\n\u001b[0;32m      3\u001b[0m     \u001b[39mf\u001b[39m\u001b[39m'\u001b[39m\u001b[39mJumlah data train\u001b[39m\u001b[39m\\t\u001b[39;00m\u001b[39m\\t\u001b[39;00m\u001b[39m: \u001b[39m\u001b[39m{\u001b[39;00m\u001b[39msum\u001b[39m([\u001b[39mlen\u001b[39m(train_df)])\u001b[39m}\u001b[39;00m\u001b[39m'\u001b[39m,\n\u001b[0;32m      4\u001b[0m     \u001b[39mf\u001b[39m\u001b[39m'\u001b[39m\u001b[39mJumlah data valid\u001b[39m\u001b[39m\\t\u001b[39;00m\u001b[39m\\t\u001b[39;00m\u001b[39m: \u001b[39m\u001b[39m{\u001b[39;00m\u001b[39msum\u001b[39m([\u001b[39mlen\u001b[39m(valid_df)])\u001b[39m}\u001b[39;00m\u001b[39m'\u001b[39m,\n\u001b[0;32m      5\u001b[0m     \u001b[39mf\u001b[39m\u001b[39m'\u001b[39m\u001b[39mJumlah kelas\u001b[39m\u001b[39m\\t\u001b[39;00m\u001b[39m\\t\u001b[39;00m\u001b[39m\\t\u001b[39;00m\u001b[39m: \u001b[39m\u001b[39m{\u001b[39;00mclass_count\u001b[39m}\u001b[39;00m\u001b[39m'\u001b[39m,\n\u001b[0;32m      6\u001b[0m     sep \u001b[39m=\u001b[39m \u001b[39m'\u001b[39m\u001b[39m\\n\u001b[39;00m\u001b[39m'\u001b[39m \u001b[39m+\u001b[39m \u001b[39m'\u001b[39m\u001b[39m-\u001b[39m\u001b[39m'\u001b[39m\u001b[39m*\u001b[39m\u001b[39m60\u001b[39m \u001b[39m+\u001b[39m \u001b[39m'\u001b[39m\u001b[39m\\n\u001b[39;00m\u001b[39m'\u001b[39m\n\u001b[0;32m      7\u001b[0m )\n",
      "\u001b[1;31mNameError\u001b[0m: name 'test_df' is not defined"
     ]
    }
   ],
   "source": [
    "print(\n",
    "    f'Jumlah data test\\t\\t: {sum([len(test_df)])}',\n",
    "    f'Jumlah data train\\t\\t: {sum([len(train_df)])}',\n",
    "    f'Jumlah data valid\\t\\t: {sum([len(valid_df)])}',\n",
    "    f'Jumlah kelas\\t\\t\\t: {class_count}',\n",
    "    sep = '\\n' + '-'*60 + '\\n'\n",
    ")\n",
    "\n",
    "# print('-'*60)\n",
    "\n",
    "# for key, value in dataset_info.items():\n",
    "#     print(f'amount of {key.lower()}\\t: {len(value)}')\n",
    "#     print('-'*60)"
   ]
  },
  {
   "cell_type": "code",
   "execution_count": 4,
   "id": "03105364-8c5c-493e-8ac4-50e8f0ba7c69",
   "metadata": {},
   "outputs": [
    {
     "data": {
      "text/plain": [
       "array(['Backpack Min Bag', 'Belt Bag', 'Duffle Bag', 'Shoulder Bag',\n",
       "       'Tote Bag'], dtype=object)"
      ]
     },
     "execution_count": 4,
     "metadata": {},
     "output_type": "execute_result"
    }
   ],
   "source": [
    "pd.unique(classes)"
   ]
  },
  {
   "cell_type": "code",
   "execution_count": 5,
   "id": "44c3ccf0-1eb6-4939-b258-f406f6108054",
   "metadata": {},
   "outputs": [
    {
     "data": {
      "image/png": "[encoded data removed]",
      "text/plain": [
       "<Figure size 700x700 with 1 Axes>"
      ]
     },
     "metadata": {},
     "output_type": "display_data"
    }
   ],
   "source": [
    "plt.figure(figsize = (7,7))\n",
    "plt.title('Jumlah Gambar Handbags', fontweight='bold')\n",
    "plt.xlabel('Jenis')\n",
    "plt.ylabel('Jumlah')\n",
    "plt.bar(train_df.keys(),\n",
    "        [len(files) for files in train_df],\n",
    "        color=['#edae49', '#d1495b', '#00798c', '#30638e', '#003d5b'])\n",
    "\n",
    "\n",
    "plt.show()"
   ]
  },
  {
   "cell_type": "code",
   "execution_count": null,
   "id": "41406650-379b-4301-84fb-7c36ff2c8b44",
   "metadata": {},
   "outputs": [],
   "source": []
  }
 ],
 "metadata": {
  "kernelspec": {
   "display_name": "Python 3.10.7 64-bit",
   "language": "python",
   "name": "python3"
  },
  "language_info": {
   "codemirror_mode": {
    "name": "ipython",
    "version": 3
   },
   "file_extension": ".py",
   "mimetype": "text/x-python",
   "name": "python",
   "nbconvert_exporter": "python",
   "pygments_lexer": "ipython3",
   "version": "3.10.7"
  },
  "vscode": {
   "interpreter": {
    "hash": "882cadbaab0090ac954bdbf8b1ed8c40d33963e97bb605336f0a4eba07460258"
   }
  }
 },
 "nbformat": 4,
 "nbformat_minor": 5
}
